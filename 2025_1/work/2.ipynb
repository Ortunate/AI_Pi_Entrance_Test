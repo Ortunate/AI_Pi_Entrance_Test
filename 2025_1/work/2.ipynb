{
 "cells": [
  {
   "cell_type": "markdown",
   "id": "a6142b41",
   "metadata": {},
   "source": [
    "# Task 2\n",
    "## 1. Env set up\n",
    "1. ... (already done before)\n",
    "2. pip install scikit-learn(including sklearn, scipy)\n",
    "---\n",
    "## 2. Learning/Working route\n",
    "1. figure out task-involved knowledge range, in this case package calling\n",
    "2. watch some short videos about these package to quickly get knowing what they do, have, and their advantages\n",
    "3. check their usage in the official documents\n",
    "4. learn new concepts like OneHot encoding, ask AI about its common realizations, and learn related methods\n",
    "5. ask AI about common ways of processing numerical data and do it under guidance\n",
    "6. when visualizing, using AI to help adjust the parameters\n",
    "---\n",
    "## 3. Work Sequentially\n",
    "#### a. Before start"
   ]
  },
  {
   "cell_type": "code",
   "execution_count": 3,
   "id": "1cc652d4",
   "metadata": {},
   "outputs": [
    {
     "ename": "AttributeError",
     "evalue": "module 'numpy' has no attribute 'read_csv'",
     "output_type": "error",
     "traceback": [
      "\u001b[31m---------------------------------------------------------------------------\u001b[39m",
      "\u001b[31mAttributeError\u001b[39m                            Traceback (most recent call last)",
      "\u001b[36mCell\u001b[39m\u001b[36m \u001b[39m\u001b[32mIn[3]\u001b[39m\u001b[32m, line 5\u001b[39m\n\u001b[32m      2\u001b[39m \u001b[38;5;28;01mimport\u001b[39;00m\u001b[38;5;250m \u001b[39m\u001b[34;01mscipy\u001b[39;00m\u001b[38;5;250m \u001b[39m\u001b[38;5;28;01mas\u001b[39;00m\u001b[38;5;250m \u001b[39m\u001b[34;01msp\u001b[39;00m\n\u001b[32m      3\u001b[39m \u001b[38;5;28;01mimport\u001b[39;00m\u001b[38;5;250m \u001b[39m\u001b[34;01msklearn\u001b[39;00m\u001b[38;5;250m \u001b[39m\u001b[38;5;28;01mas\u001b[39;00m\u001b[38;5;250m \u001b[39m\u001b[34;01msk\u001b[39;00m\n\u001b[32m----> \u001b[39m\u001b[32m5\u001b[39m train_data = \u001b[43mnp\u001b[49m\u001b[43m.\u001b[49m\u001b[43mread_csv\u001b[49m(\u001b[33m'\u001b[39m\u001b[33m../MBAAdmission/train.csv\u001b[39m\u001b[33m'\u001b[39m)\n\u001b[32m      6\u001b[39m test_data = np.read_csv(\u001b[33m'\u001b[39m\u001b[33m../MBAAdmission/test.csv\u001b[39m\u001b[33m'\u001b[39m)\n",
      "\u001b[36mFile \u001b[39m\u001b[32mc:\\scoop\\apps\\python\\3.13.7\\Lib\\site-packages\\numpy\\__init__.py:427\u001b[39m, in \u001b[36m__getattr__\u001b[39m\u001b[34m(attr)\u001b[39m\n\u001b[32m    424\u001b[39m     \u001b[38;5;28;01mimport\u001b[39;00m\u001b[38;5;250m \u001b[39m\u001b[34;01mnumpy\u001b[39;00m\u001b[34;01m.\u001b[39;00m\u001b[34;01mchar\u001b[39;00m\u001b[38;5;250m \u001b[39m\u001b[38;5;28;01mas\u001b[39;00m\u001b[38;5;250m \u001b[39m\u001b[34;01mchar\u001b[39;00m\n\u001b[32m    425\u001b[39m     \u001b[38;5;28;01mreturn\u001b[39;00m char.chararray\n\u001b[32m--> \u001b[39m\u001b[32m427\u001b[39m \u001b[38;5;28;01mraise\u001b[39;00m \u001b[38;5;167;01mAttributeError\u001b[39;00m(\u001b[33m\"\u001b[39m\u001b[33mmodule \u001b[39m\u001b[38;5;132;01m{!r}\u001b[39;00m\u001b[33m has no attribute \u001b[39m\u001b[33m\"\u001b[39m\n\u001b[32m    428\u001b[39m                      \u001b[33m\"\u001b[39m\u001b[38;5;132;01m{!r}\u001b[39;00m\u001b[33m\"\u001b[39m.format(\u001b[34m__name__\u001b[39m, attr))\n",
      "\u001b[31mAttributeError\u001b[39m: module 'numpy' has no attribute 'read_csv'"
     ]
    }
   ],
   "source": [
    "import numpy as np\n",
    "import scipy as sp\n",
    "import sklearn as sk\n",
    "\n",
    "train_data = np.read_csv('../MBAAdmission/train.csv')\n",
    "test_data = np.read_csv('../MBAAdmission/test.csv')\n"
   ]
  }
 ],
 "metadata": {
  "kernelspec": {
   "display_name": "Python 3",
   "language": "python",
   "name": "python3"
  },
  "language_info": {
   "codemirror_mode": {
    "name": "ipython",
    "version": 3
   },
   "file_extension": ".py",
   "mimetype": "text/x-python",
   "name": "python",
   "nbconvert_exporter": "python",
   "pygments_lexer": "ipython3",
   "version": "3.13.7"
  }
 },
 "nbformat": 4,
 "nbformat_minor": 5
}
