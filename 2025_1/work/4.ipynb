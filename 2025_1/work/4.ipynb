{
 "cells": [
  {
   "cell_type": "markdown",
   "id": "f6cc201c",
   "metadata": {},
   "source": [
    "# Task 4\n",
    "## 1. Env set up\n",
    "1. ... already set up\n",
    "---\n",
    "## 2. Work Sequentially\n",
    "- using Copilot(Gemini 2.5 pro) to help"
   ]
  },
  {
   "cell_type": "markdown",
   "id": "17415901",
   "metadata": {},
   "source": [
    "#### a. Subtask 1\n",
    "(1) Word Embedding\n",
    "1. "
   ]
  }
 ],
 "metadata": {
  "language_info": {
   "name": "python"
  }
 },
 "nbformat": 4,
 "nbformat_minor": 5
}
