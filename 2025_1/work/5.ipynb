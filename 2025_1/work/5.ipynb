{
 "cells": [
  {
   "cell_type": "markdown",
   "id": "a872bf50",
   "metadata": {},
   "source": [
    "# Task 5\n",
    "## 1. Env set up\n",
    "1. ... already set up\n",
    "2. using proxy to visit some webs\n",
    "---\n",
    "## 2. Work Sequentially\n",
    "1. "
   ]
  }
 ],
 "metadata": {
  "language_info": {
   "name": "python"
  }
 },
 "nbformat": 4,
 "nbformat_minor": 5
}
