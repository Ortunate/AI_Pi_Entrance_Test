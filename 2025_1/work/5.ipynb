{
 "cells": [
  {
   "cell_type": "markdown",
   "id": "a872bf50",
   "metadata": {},
   "source": [
    "# Task 5\n",
    "## 1. Env set up\n",
    "1. ... already set up\n",
    "2. pip install transformers datasets torch scikit-learn umap-learn matplotlib tqdm google-generativeai pillow tensorboard\n",
    "3. using proxy to visit some webs\n",
    "---\n",
    "## 2. Work Sequentially\n",
    "- I'm using Python 3.13, which is too new for packages like 'cuda', resulting in tasks running on CPU. And thus subtask 2 takes too long(about half an hour) too run. So I split data preparation to conveniently run subtask 4-5.\n",
    "- This task is mostly based on Prompt Engineering.\n",
    "\n",
    "### Subtask 1\n",
    "#### a. deploy\n",
    "1. install git lfs\n",
    "2. git clone: (powershell)\n",
    "\n",
    "        $env:GIT_LFS_SKIP_SMUDGE=\"1\"; git clone https://huggingface.co/google/siglip2-base-patch16-224\n",
    "\n",
    "3. cd file folder and pull lfs files\n",
    "\n",
    "        git lfs pull \n",
    "\n",
    "4. Run first example code in the repo\n"
   ]
  },
  {
   "cell_type": "code",
   "execution_count": 1,
   "id": "75540836",
   "metadata": {},
   "outputs": [
    {
     "name": "stderr",
     "output_type": "stream",
     "text": [
      "Using a slow image processor as `use_fast` is unset and a slow processor was saved with this model. `use_fast=True` will be the default behavior in v4.52, even if the model was saved with a slow processor. This will result in minor differences in outputs. You'll still be able to use a slow processor with `use_fast=False`.\n",
      "Device set to use cpu\n",
      "Using a slow image processor as `use_fast` is unset and a slow processor was saved with this model. `use_fast=True` will be the default behavior in v4.52, even if the model was saved with a slow processor. This will result in minor differences in outputs. You'll still be able to use a slow processor with `use_fast=False`.\n"
     ]
    },
    {
     "name": "stdout",
     "output_type": "stream",
     "text": [
      "[{'score': 0.17189541459083557, 'label': '2 cats'}, {'score': 0.02414991706609726, 'label': 'a remote'}, {'score': 2.1914920580456965e-06, 'label': 'a plane'}]\n"
     ]
    }
   ],
   "source": [
    "from transformers import pipeline\n",
    "from transformers import AutoProcessor\n",
    "import torch\n",
    "\n",
    "device = \"cuda\" if torch.cuda.is_available() else \"cpu\"\n",
    "\n",
    "# load pipeline\n",
    "ckpt = r\"C:\\Users\\zxy84\\Documents\\GitHub\\AI_Pi\\siglip2-base-patch16-224\"\n",
    "image_classifier = pipeline(model=ckpt, task=\"zero-shot-image-classification\",device=device)\n",
    "model = image_classifier.model\n",
    "processor = AutoProcessor.from_pretrained(ckpt)\n",
    "\n",
    "# load image and candidate labels\n",
    "url = \"http://images.cocodataset.org/val2017/000000039769.jpg\"\n",
    "candidate_labels = [\"2 cats\", \"a plane\", \"a remote\"]\n",
    "\n",
    "# run inference\n",
    "outputs = image_classifier(url, candidate_labels)\n",
    "print(outputs)"
   ]
  },
  {
   "cell_type": "markdown",
   "id": "2bb15d8c",
   "metadata": {},
   "source": [
    "5. Analysis:\n",
    "- the image is a picture of 'two cats', and the model correctly classifies it with highest score."
   ]
  },
  {
   "cell_type": "markdown",
   "id": "933eb6cf",
   "metadata": {},
   "source": [
    "### Subtask 2\n",
    "#### a. download dataset(or use streaming)\n",
    "1. git clone, cd the directory and lfs pull:(powershell, can be done at the same time with subtask 1)\n",
    "\n",
    "        $env:GIT_LFS_SKIP_SMUDGE=\"1\";git clone https://huggingface.co/datasets/ethz/food101\n",
    "        cd .\\food101\n",
    "        git lfs pull\n",
    "\n",
    "2. Actually it's too slow. Try another way:\n",
    "```python\n",
    "\n",
    "import os\n",
    "\n",
    "os.environ[\"HF_DATASETS_CACHE\"] = \"D:/FFFFFFFiles/datasets\"\n",
    "from datasets import load_dataset\n",
    "\n",
    "ds = load_dataset(\"ethz/food101\")\n",
    "\n",
    "```\n",
    "#### b. run the code below:"
   ]
  },
  {
   "cell_type": "code",
   "execution_count": 2,
   "id": "270443be",
   "metadata": {},
   "outputs": [
    {
     "name": "stdout",
     "output_type": "stream",
     "text": [
      "Loading dataset from local path: D:/FFFFFFFiles/datasets\n",
      "Found 101 classes in the local food101 dataset.\n",
      "\n",
      "Collecting 1010 images (10 from each of 101 classes) for testing...\n"
     ]
    },
    {
     "data": {
      "application/vnd.jupyter.widget-view+json": {
       "model_id": "8dadeca62bc24fe5aacfaf1c64acf0f7",
       "version_major": 2,
       "version_minor": 0
      },
      "text/plain": [
       "  0%|          | 0/25250 [00:00<?, ?it/s]"
      ]
     },
     "metadata": {},
     "output_type": "display_data"
    },
    {
     "name": "stderr",
     "output_type": "stream",
     "text": [
      "c:\\scoop\\apps\\python\\3.13.7\\Lib\\site-packages\\PIL\\TiffImagePlugin.py:950: UserWarning: Truncated File Read\n",
      "  warnings.warn(str(msg))\n"
     ]
    },
    {
     "name": "stdout",
     "output_type": "stream",
     "text": [
      "\n",
      "Collected 1010 images. This data is now ready for Subtasks 2, 4, and 5.\n"
     ]
    }
   ],
   "source": [
    "# prepare dataset\n",
    "from datasets import load_dataset\n",
    "from tqdm.auto import tqdm\n",
    "\n",
    "# Load the dataset and class names\n",
    "local_dataset_path = \"D:/FFFFFFFiles/datasets\"\n",
    "print(f\"Loading dataset from local path: {local_dataset_path}\")\n",
    "food101_dataset = load_dataset(local_dataset_path)\n",
    "class_names = food101_dataset['train'].features['label'].names\n",
    "print(f\"Found {len(class_names)} classes in the local food101 dataset.\")\n",
    "\n",
    "# Prepare the common validation set for Subtasks 2, 4, and 5\n",
    "validation_set = food101_dataset['validation']\n",
    "images_to_test = []\n",
    "true_labels = []\n",
    "class_counts = {i: 0 for i in range(len(class_names))}\n",
    "num_target_images = 101 * 10\n",
    "\n",
    "print(f\"\\nCollecting {num_target_images} images (10 from each of 101 classes) for testing...\")\n",
    "\n",
    "# Iterate through the validation set to get the required images\n",
    "for example in tqdm(validation_set):\n",
    "    label = example['label']\n",
    "    if class_counts.get(label, 10) < 10:\n",
    "        images_to_test.append(example['image'].convert(\"RGB\"))\n",
    "        true_labels.append(label)\n",
    "        class_counts[label] = class_counts.get(label, 0) + 1\n",
    "    \n",
    "    if len(images_to_test) >= num_target_images:\n",
    "        break\n",
    "\n",
    "print(f\"\\nCollected {len(images_to_test)} images. This data is now ready for Subtasks 2, 4, and 5.\")"
   ]
  },
  {
   "cell_type": "code",
   "execution_count": 3,
   "id": "380ffe4f",
   "metadata": {},
   "outputs": [
    {
     "data": {
      "application/vnd.jupyter.widget-view+json": {
       "model_id": "d45a22864b40471483d4974a3d12e560",
       "version_major": 2,
       "version_minor": 0
      },
      "text/plain": [
       "Formatting results:   0%|          | 0/1010 [00:00<?, ?it/s]"
      ]
     },
     "metadata": {},
     "output_type": "display_data"
    },
    {
     "name": "stdout",
     "output_type": "stream",
     "text": [
      "Zero-shot Top-5 Accuracy on 1010 images: 0.9881\n",
      "\n",
      "Subtask 2 Finished!\n"
     ]
    }
   ],
   "source": [
    "from sklearn.metrics import top_k_accuracy_score\n",
    "import numpy as np\n",
    "from tqdm.auto import tqdm\n",
    "\n",
    "# run inference on the collected images\n",
    "outputs = image_classifier(images_to_test, candidate_labels=class_names)\n",
    "\n",
    "# Format outputs for metric calculation\n",
    "predicted_scores = []\n",
    "for result in tqdm(outputs, desc=\"Formatting results\"):\n",
    "    score_array = np.zeros(len(class_names))\n",
    "    score_map = {item['label']: item['score'] for item in result}\n",
    "    for j, name in enumerate(class_names):\n",
    "        score_array[j] = score_map.get(name, 0)\n",
    "    predicted_scores.append(score_array)\n",
    "\n",
    "predicted_scores_np = np.array(predicted_scores)\n",
    "true_labels_np = np.array(true_labels)\n",
    "\n",
    "# Calculate the top-5 accuracy\n",
    "top5_accuracy = top_k_accuracy_score(true_labels_np, predicted_scores_np, k=5)\n",
    "\n",
    "print(f\"Zero-shot Top-5 Accuracy on 1010 images: {top5_accuracy:.4f}\")\n",
    "print(f\"\\nSubtask 2 Finished!\")"
   ]
  },
  {
   "cell_type": "markdown",
   "id": "1fdc28ea",
   "metadata": {},
   "source": [
    "### Subtask 3"
   ]
  },
  {
   "cell_type": "code",
   "execution_count": 4,
   "id": "629b84c9",
   "metadata": {},
   "outputs": [
    {
     "name": "stdout",
     "output_type": "stream",
     "text": [
      "\n",
      "Collecting 500 images for UMAP visualization (Subtask 3)...\n"
     ]
    },
    {
     "data": {
      "application/vnd.jupyter.widget-view+json": {
       "model_id": "69930e5f4aff415ab40b276fa1d96901",
       "version_major": 2,
       "version_minor": 0
      },
      "text/plain": [
       "  0%|          | 0/75750 [00:00<?, ?it/s]"
      ]
     },
     "metadata": {},
     "output_type": "display_data"
    },
    {
     "name": "stderr",
     "output_type": "stream",
     "text": [
      "c:\\scoop\\apps\\python\\3.13.7\\Lib\\site-packages\\PIL\\TiffImagePlugin.py:950: UserWarning: Truncated File Read\n",
      "  warnings.warn(str(msg))\n"
     ]
    },
    {
     "name": "stdout",
     "output_type": "stream",
     "text": [
      "Collected 500 images for Subtask 3.\n",
      "Model and processor loaded successfully.\n",
      "\n",
      "Collecting 500 images for UMAP visualization...\n"
     ]
    },
    {
     "data": {
      "application/vnd.jupyter.widget-view+json": {
       "model_id": "0187967596dc45a2a158a855263edcc7",
       "version_major": 2,
       "version_minor": 0
      },
      "text/plain": [
       "  0%|          | 0/75750 [00:00<?, ?it/s]"
      ]
     },
     "metadata": {},
     "output_type": "display_data"
    },
    {
     "name": "stderr",
     "output_type": "stream",
     "text": [
      "c:\\scoop\\apps\\python\\3.13.7\\Lib\\site-packages\\PIL\\TiffImagePlugin.py:950: UserWarning: Truncated File Read\n",
      "  warnings.warn(str(msg))\n"
     ]
    },
    {
     "name": "stdout",
     "output_type": "stream",
     "text": [
      "Collected 500 images.\n",
      "\n",
      "Generating image embeddings...\n"
     ]
    },
    {
     "data": {
      "application/vnd.jupyter.widget-view+json": {
       "model_id": "495d1c2b6c2d45b8b4c61b2320cca254",
       "version_major": 2,
       "version_minor": 0
      },
      "text/plain": [
       "Generating Embeddings:   0%|          | 0/16 [00:00<?, ?it/s]"
      ]
     },
     "metadata": {},
     "output_type": "display_data"
    },
    {
     "name": "stdout",
     "output_type": "stream",
     "text": [
      "Embeddings generated with shape: (500, 768)\n",
      "\n",
      "Running UMAP for dimensionality reduction...\n"
     ]
    },
    {
     "name": "stderr",
     "output_type": "stream",
     "text": [
      "c:\\scoop\\apps\\python\\3.13.7\\Lib\\site-packages\\umap\\umap_.py:1952: UserWarning: n_jobs value 1 overridden to 1 by setting random_state. Use no seed for parallelism.\n",
      "  warn(\n"
     ]
    },
    {
     "name": "stdout",
     "output_type": "stream",
     "text": [
      "UMAP-reduced embeddings shape: (500, 2)\n",
      "\n",
      "Plotting results...\n"
     ]
    },
    {
     "data": {
      "image/png": "[encoded data removed]",
      "text/plain": [
       "<Figure size 1200x1000 with 1 Axes>"
      ]
     },
     "metadata": {},
     "output_type": "display_data"
    }
   ],
   "source": [
    "# Subtask 3\n",
    "\n",
    "# prepare data\n",
    "from tqdm.auto import tqdm\n",
    "\n",
    "# Define target classes for Subtask 3\n",
    "target_class_names = ['pizza', 'sushi', 'hamburger', 'ice_cream', 'dumplings']\n",
    "target_class_ids = [class_names.index(name) for name in target_class_names]\n",
    "id_to_name_map = {id: name for id, name in zip(target_class_ids, target_class_names)}\n",
    "\n",
    "train_set = food101_dataset['train']\n",
    "images_for_embedding = []\n",
    "labels_for_embedding = []\n",
    "class_counts_subset = {i: 0 for i in target_class_ids}\n",
    "num_target_subset = len(target_class_names) * 100\n",
    "\n",
    "print(f\"\\nCollecting {num_target_subset} images for UMAP visualization (Subtask 3)...\")\n",
    "for example in tqdm(train_set):\n",
    "    label = example['label']\n",
    "    if label in class_counts_subset and class_counts_subset[label] < 100:\n",
    "        images_for_embedding.append(example['image'].convert(\"RGB\"))\n",
    "        labels_for_embedding.append(label)\n",
    "        class_counts_subset[label] += 1\n",
    "    \n",
    "    if len(images_for_embedding) >= num_target_subset:\n",
    "        break\n",
    "\n",
    "print(f\"Collected {len(images_for_embedding)} images for Subtask 3.\")\n",
    "\n",
    "\n",
    "# generate embeddings\n",
    "import torch\n",
    "from transformers import AutoProcessor, AutoModel\n",
    "from umap.umap_ import UMAP\n",
    "import matplotlib.pyplot as plt\n",
    "import numpy as np\n",
    "\n",
    "# reuse model and dataset\n",
    "model = image_classifier.model\n",
    "processor = AutoProcessor.from_pretrained(ckpt)\n",
    "print(\"Model and processor loaded successfully.\")\n",
    "\n",
    "target_class_names = ['pizza', 'sushi', 'hamburger', 'ice_cream', 'dumplings']\n",
    "target_class_ids = [class_names.index(name) for name in target_class_names]\n",
    "id_to_name_map = {id: name for id, name in zip(target_class_ids, target_class_names)}\n",
    "\n",
    "train_set = food101_dataset['train']\n",
    "images_for_embedding = []\n",
    "labels_for_embedding = []\n",
    "class_counts_subset = {i: 0 for i in target_class_ids}\n",
    "num_target_subset = len(target_class_names) * 100\n",
    "\n",
    "print(f\"\\nCollecting {num_target_subset} images for UMAP visualization...\")\n",
    "for example in tqdm(train_set):\n",
    "    label = example['label']\n",
    "    if label in class_counts_subset and class_counts_subset[label] < 100:\n",
    "        images_for_embedding.append(example['image'].convert(\"RGB\"))\n",
    "        labels_for_embedding.append(label)\n",
    "        class_counts_subset[label] += 1\n",
    "    \n",
    "    if len(images_for_embedding) >= num_target_subset:\n",
    "        break\n",
    "\n",
    "print(f\"Collected {len(images_for_embedding)} images.\")\n",
    "\n",
    "print(\"\\nGenerating image embeddings...\")\n",
    "embeddings = []\n",
    "batch_size = 32\n",
    "\n",
    "for i in tqdm(range(0, len(images_for_embedding), batch_size), desc=\"Generating Embeddings\"):\n",
    "    batch_images = images_for_embedding[i:i+batch_size]\n",
    "    inputs = processor(images=batch_images, return_tensors=\"pt\").to(device)\n",
    "    \n",
    "    with torch.no_grad():\n",
    "        image_features = model.get_image_features(**inputs)\n",
    "        # Move embeddings to CPU and convert to numpy\n",
    "        embeddings.append(image_features.cpu().numpy())\n",
    "\n",
    "# Combine all batch embeddings into a single numpy array\n",
    "embeddings = np.vstack(embeddings)\n",
    "print(f\"Embeddings generated with shape: {embeddings.shape}\")\n",
    "\n",
    "# Reduce Dimensionality with UMAP\n",
    "print(\"\\nRunning UMAP for dimensionality reduction...\")\n",
    "# Using random_state for reproducible results\n",
    "reducer = UMAP(n_neighbors=15, min_dist=0.1, n_components=2, random_state=42)\n",
    "embedding_2d = reducer.fit_transform(embeddings)\n",
    "print(f\"UMAP-reduced embeddings shape: {embedding_2d.shape}\")\n",
    "\n",
    "# Plot the 2D Embeddings\n",
    "print(\"\\nPlotting results...\")\n",
    "plt.figure(figsize=(12, 10))\n",
    "for class_id in target_class_ids:\n",
    "    # Find the indices in our collected data that correspond to the current class\n",
    "    indices = [i for i, l in enumerate(labels_for_embedding) if l == class_id]\n",
    "    # Use these indices to plot the 2D points\n",
    "    plt.scatter(embedding_2d[indices, 0], embedding_2d[indices, 1], label=id_to_name_map[class_id], alpha=0.7)\n",
    "\n",
    "plt.title(\"UMAP Projection of SigLIP Image Embeddings (5 Food Classes)\")\n",
    "plt.xlabel(\"UMAP Dimension 1\")\n",
    "plt.ylabel(\"UMAP Dimension 2\")\n",
    "plt.legend()\n",
    "plt.grid(True)\n",
    "plt.show()"
   ]
  },
  {
   "cell_type": "markdown",
   "id": "2987367d",
   "metadata": {},
   "source": [
    "### Subtask 4"
   ]
  },
  {
   "cell_type": "code",
   "execution_count": 5,
   "id": "80376cc0",
   "metadata": {},
   "outputs": [
    {
     "name": "stdout",
     "output_type": "stream",
     "text": [
      "\n",
      "Collecting 1 training image per class...\n"
     ]
    },
    {
     "data": {
      "application/vnd.jupyter.widget-view+json": {
       "model_id": "bb2be40ed341497f806c7de8158ce61b",
       "version_major": 2,
       "version_minor": 0
      },
      "text/plain": [
       "  0%|          | 0/75750 [00:00<?, ?it/s]"
      ]
     },
     "metadata": {},
     "output_type": "display_data"
    },
    {
     "name": "stderr",
     "output_type": "stream",
     "text": [
      "c:\\scoop\\apps\\python\\3.13.7\\Lib\\site-packages\\PIL\\TiffImagePlugin.py:950: UserWarning: Truncated File Read\n",
      "  warnings.warn(str(msg))\n"
     ]
    },
    {
     "name": "stdout",
     "output_type": "stream",
     "text": [
      "Collected 101 training images.\n",
      "\n",
      "Reusing 1010 validation images from Subtask 2.\n"
     ]
    },
    {
     "data": {
      "application/vnd.jupyter.widget-view+json": {
       "model_id": "8e0f2789f5124f329ce19b55ad9aaf9c",
       "version_major": 2,
       "version_minor": 0
      },
      "text/plain": [
       "Generating Embeddings:   0%|          | 0/4 [00:00<?, ?it/s]"
      ]
     },
     "metadata": {},
     "output_type": "display_data"
    },
    {
     "data": {
      "application/vnd.jupyter.widget-view+json": {
       "model_id": "d4cf4a59a9944e7fb30f5f500cd0c11d",
       "version_major": 2,
       "version_minor": 0
      },
      "text/plain": [
       "Generating Embeddings:   0%|          | 0/32 [00:00<?, ?it/s]"
      ]
     },
     "metadata": {},
     "output_type": "display_data"
    },
    {
     "name": "stdout",
     "output_type": "stream",
     "text": [
      "\n",
      "Starting training...\n"
     ]
    },
    {
     "data": {
      "application/vnd.jupyter.widget-view+json": {
       "model_id": "138893a46ff0475e91bae926f5bac209",
       "version_major": 2,
       "version_minor": 0
      },
      "text/plain": [
       "Training Epochs:   0%|          | 0/100 [00:00<?, ?it/s]"
      ]
     },
     "metadata": {},
     "output_type": "display_data"
    },
    {
     "name": "stdout",
     "output_type": "stream",
     "text": [
      "Training finished.\n",
      "To view loss curve, run in your terminal: tensorboard --logdir=runs\n",
      "\n",
      "Accuracy of the linear probe on 1010 validation images: 64.95 %\n",
      "For comparison, the zero-shot Top-1 accuracy would be roughly implied by the Top-5 of 0.9881 from Subtask 2.\n"
     ]
    },
    {
     "data": {
      "image/png": "[encoded data removed]",
      "text/plain": [
       "<Figure size 1000x500 with 1 Axes>"
      ]
     },
     "metadata": {},
     "output_type": "display_data"
    },
    {
     "name": "stdout",
     "output_type": "stream",
     "text": [
      "\n",
      "Subtask 4 Finished!\n"
     ]
    }
   ],
   "source": [
    "# Subtask 4\n",
    "import torch.nn as nn\n",
    "import torch.optim as optim\n",
    "from torch.utils.data import DataLoader, TensorDataset\n",
    "from torch.utils.tensorboard import SummaryWriter\n",
    "\n",
    "# Initialize TensorBoard writer\n",
    "writer = SummaryWriter('runs/food101_linear_probe')\n",
    "\n",
    "# Prepare Data and Generate Embeddings\n",
    "\n",
    "# a) Training data: 1 image per class\n",
    "train_images = []\n",
    "train_labels = []\n",
    "# Use a boolean array to track which classes we've seen\n",
    "seen_classes = [False] * len(class_names) \n",
    "print(\"\\nCollecting 1 training image per class...\")\n",
    "for example in tqdm(food101_dataset['train']):\n",
    "    label = example['label']\n",
    "    if not seen_classes[label]:\n",
    "        train_images.append(example['image'].convert(\"RGB\"))\n",
    "        train_labels.append(label)\n",
    "        seen_classes[label] = True\n",
    "    if all(seen_classes):\n",
    "        break\n",
    "print(f\"Collected {len(train_images)} training images.\")\n",
    "\n",
    "# b) Validation data: Reusing the same 1010 images from Subtask 2 for a fair comparison\n",
    "# The 'images_to_test' and 'true_labels' variables from Subtask 2 are reused here.\n",
    "print(f\"\\nReusing {len(images_to_test)} validation images from Subtask 2.\")\n",
    "val_images = images_to_test\n",
    "val_labels = true_labels\n",
    "\n",
    "# c) Generate embeddings for training and validation sets\n",
    "def get_embeddings(images, batch_size=32):\n",
    "    all_embeddings = []\n",
    "    with torch.no_grad():\n",
    "        for i in tqdm(range(0, len(images), batch_size), desc=\"Generating Embeddings\"):\n",
    "            batch = images[i:i+batch_size]\n",
    "            inputs = processor(images=batch, return_tensors=\"pt\").to(device)\n",
    "            embeddings = model.get_image_features(**inputs)\n",
    "            all_embeddings.append(embeddings.cpu())\n",
    "    return torch.cat(all_embeddings)\n",
    "\n",
    "train_embeddings = get_embeddings(train_images)\n",
    "val_embeddings = get_embeddings(val_images)\n",
    "\n",
    "train_labels = torch.tensor(train_labels, dtype=torch.long)\n",
    "val_labels = torch.tensor(val_labels, dtype=torch.long)\n",
    "\n",
    "#2. Create DataLoader\n",
    "train_dataset = TensorDataset(train_embeddings, train_labels)\n",
    "# Batch size can be smaller as the training set is tiny\n",
    "train_loader = DataLoader(train_dataset, batch_size=16, shuffle=True) \n",
    "\n",
    "val_dataset = TensorDataset(val_embeddings, val_labels)\n",
    "val_loader = DataLoader(val_dataset, batch_size=32)\n",
    "\n",
    "#3. Define the Linear Probing Model\n",
    "embedding_dim = train_embeddings.shape[1]\n",
    "num_classes = len(class_names)\n",
    "probe_model = nn.Linear(embedding_dim, num_classes).to(device)\n",
    "\n",
    "#4. Training\n",
    "# Hyperparameters\n",
    "learning_rate = 0.01 # Learning rate is crucial. 0.01 is a good starting point for Adam.\n",
    "epochs = 100\n",
    "criterion = nn.CrossEntropyLoss()\n",
    "optimizer = optim.Adam(probe_model.parameters(), lr=learning_rate)\n",
    "\n",
    "print(\"\\nStarting training...\")\n",
    "loss_history = []\n",
    "for epoch in tqdm(range(epochs), desc=\"Training Epochs\"):\n",
    "    probe_model.train()\n",
    "    running_loss = 0.0\n",
    "    for embeddings_batch, labels_batch in train_loader:\n",
    "        embeddings_batch, labels_batch = embeddings_batch.to(device), labels_batch.to(device)\n",
    "        \n",
    "        optimizer.zero_grad()\n",
    "        outputs = probe_model(embeddings_batch)\n",
    "        loss = criterion(outputs, labels_batch)\n",
    "        loss.backward()\n",
    "        optimizer.step()\n",
    "        running_loss += loss.item()\n",
    "    \n",
    "    epoch_loss = running_loss / len(train_loader)\n",
    "    loss_history.append(epoch_loss)\n",
    "    # Log loss to TensorBoard\n",
    "    writer.add_scalar('Training Loss', epoch_loss, epoch)\n",
    "\n",
    "writer.close()\n",
    "print(\"Training finished.\")\n",
    "print(\"To view loss curve, run in your terminal: tensorboard --logdir=runs\")\n",
    "\n",
    "#5. Evaluation\n",
    "probe_model.eval()\n",
    "correct = 0\n",
    "total = 0\n",
    "with torch.no_grad():\n",
    "    for embeddings_batch, labels_batch in val_loader:\n",
    "        embeddings_batch, labels_batch = embeddings_batch.to(device), labels_batch.to(device)\n",
    "        outputs = probe_model(embeddings_batch)\n",
    "        _, predicted = torch.max(outputs.data, 1)\n",
    "        total += labels_batch.size(0)\n",
    "        correct += (predicted == labels_batch).sum().item()\n",
    "\n",
    "accuracy = 100 * correct / total\n",
    "print(f'\\nAccuracy of the linear probe on {total} validation images: {accuracy:.2f} %')\n",
    "print(f\"For comparison, the zero-shot Top-1 accuracy would be roughly implied by the Top-5 of {top5_accuracy:.4f} from Subtask 2.\")\n",
    "\n",
    "#6. Plot Loss Curve\n",
    "plt.figure(figsize=(10, 5))\n",
    "plt.plot(range(epochs), loss_history)\n",
    "plt.title(\"Training Loss Curve\")\n",
    "plt.xlabel(\"Epoch\")\n",
    "plt.ylabel(\"Loss\")\n",
    "plt.grid(True)\n",
    "plt.show()\n",
    "\n",
    "print(\"\\nSubtask 4 Finished!\")"
   ]
  },
  {
   "cell_type": "markdown",
   "id": "88777606",
   "metadata": {},
   "source": [
    "### Subtask 5"
   ]
  },
  {
   "cell_type": "code",
   "execution_count": 6,
   "id": "4f4b4449",
   "metadata": {},
   "outputs": [
    {
     "name": "stdout",
     "output_type": "stream",
     "text": [
      "Setting up Gemini API client...\n",
      "Data and prompt prepared. Will classify 1010 images.\n",
      "\n",
      "Starting classification with Gemini 2.5 Flash...\n"
     ]
    },
    {
     "name": "stderr",
     "output_type": "stream",
     "text": [
      "100%|██████████| 1010/1010 [01:10<00:00, 14.38it/s]"
     ]
    },
    {
     "name": "stdout",
     "output_type": "stream",
     "text": [
      "All API calls completed.\n",
      "\n",
      "--- Subtask 5 Results ---\n",
      "Total images processed: 1010\n",
      "Successful predictions: 1010\n",
      "API errors or invalid responses: 923\n",
      "\n",
      "Gemini 2.5 Flash Top-1 Accuracy: 0.0792\n",
      "For comparison, SigLIP Zero-Shot Top-5 Accuracy (from Subtask 2): 0.9881\n",
      "\n",
      "Subtask 5 Finished!\n"
     ]
    },
    {
     "name": "stderr",
     "output_type": "stream",
     "text": [
      "\n"
     ]
    }
   ],
   "source": [
    "import os\n",
    "import asyncio\n",
    "import base64\n",
    "import io\n",
    "import openai\n",
    "from openai import AsyncOpenAI\n",
    "from PIL import Image\n",
    "from tqdm.asyncio import tqdm_asyncio\n",
    "from sklearn.metrics import accuracy_score\n",
    "import numpy as np\n",
    "\n",
    "# --- 0. Setup API Client and Environment ---\n",
    "# Using the API configuration from the task description\n",
    "print(\"Setting up Gemini API client...\")\n",
    "os.environ[\"OPENAI_API_KEY\"] = \"sk-yxhm7vIgkeffD0FU1bE5F797B654482d94CbB6DbBa556b96\"\n",
    "os.environ[\"OPENAI_BASE_URL\"] = \"https://api.ai-gaochao.cn/v1\"\n",
    "\n",
    "client = AsyncOpenAI()\n",
    "\n",
    "# --- 1. Prepare Data and Prompt ---\n",
    "# Reusing variables from Subtask 2\n",
    "# images_to_test: A list of 1010 PIL Image objects\n",
    "# true_labels: A list of 1010 integer labels\n",
    "# class_names: A list of 101 string class names\n",
    "\n",
    "# Helper function to convert PIL image to base64\n",
    "def pil_to_base64(image: Image.Image, format=\"jpeg\") -> str:\n",
    "    buffer = io.BytesIO()\n",
    "    image.save(buffer, format=format)\n",
    "    return base64.b64encode(buffer.getvalue()).decode(\"utf-8\")\n",
    "\n",
    "# Create a string of all possible class names for the prompt\n",
    "class_list_str = \", \".join(class_names)\n",
    "\n",
    "# Define the prompt template\n",
    "# This prompt guides the model to return only the class name for easy parsing.\n",
    "PROMPT_TEMPLATE = f\"\"\"\n",
    "Identify the food in this image. Choose your answer from the following list of 101 food classes.\n",
    "Respond with only the single, most likely class name and nothing else.\n",
    "\n",
    "Classes: {class_list_str}\n",
    "\"\"\"\n",
    "\n",
    "print(f\"Data and prompt prepared. Will classify {len(images_to_test)} images.\")\n",
    "\n",
    "# --- 2. Define Asynchronous API Call Function ---\n",
    "# MODIFICATION: Added a 'semaphore' argument\n",
    "async def classify_image_with_gemini(image: Image.Image, session_client: AsyncOpenAI, semaphore: asyncio.Semaphore):\n",
    "    # MODIFICATION: Acquire the semaphore before making the API call\n",
    "    async with semaphore:\n",
    "        base64_image = pil_to_base64(image)\n",
    "        \n",
    "        try:\n",
    "            response = await session_client.chat.completions.create(\n",
    "                model=\"gemini-2.5-flash\", # As specified in the task\n",
    "                messages=[\n",
    "                    {\n",
    "                        \"role\": \"user\",\n",
    "                        \"content\": [\n",
    "                            {\"type\": \"text\", \"text\": PROMPT_TEMPLATE},\n",
    "                            {\n",
    "                                \"type\": \"image_url\",\n",
    "                                \"image_url\": {\"url\": f\"data:image/jpeg;base64,{base64_image}\"},\n",
    "                            },\n",
    "                        ],\n",
    "                    }\n",
    "                ],\n",
    "                max_tokens=50, # A class name is short, so we don't need many tokens\n",
    "                temperature=0.0, # Set to 0 for deterministic, most likely output\n",
    "            )\n",
    "            # Extract the text and clean up any extra whitespace or quotes\n",
    "            return response.choices[0].message.content.strip().strip('\"')\n",
    "        except Exception as e:\n",
    "            # If an API call fails, return an error string\n",
    "            return f\"API_ERROR: {str(e)}\"\n",
    "\n",
    "# --- 3. Run Asynchronous Classification ---\n",
    "async def run_classification():\n",
    "    print(\"\\nStarting classification with Gemini 2.5 Flash...\")\n",
    "    # MODIFICATION: Create a semaphore to limit concurrency to 50\n",
    "    concurrency_limit = 50\n",
    "    semaphore = asyncio.Semaphore(concurrency_limit)\n",
    "    \n",
    "    # MODIFICATION: Pass the semaphore to each task\n",
    "    tasks = [classify_image_with_gemini(img, client, semaphore) for img in images_to_test]\n",
    "    \n",
    "    # tqdm_asyncio shows a progress bar for our async tasks\n",
    "    predictions = await tqdm_asyncio.gather(*tasks)\n",
    "    return predictions\n",
    "\n",
    "# Run the main async function\n",
    "# Note: This will make 1010 API calls and may take several minutes and incur costs.\n",
    "gemini_predictions_str = await run_classification()\n",
    "print(\"All API calls completed.\")\n",
    "\n",
    "# --- 4. Calculate Accuracy and Compare ---\n",
    "# Convert predicted string labels to integer IDs\n",
    "# Create a mapping from class name string to integer ID\n",
    "name_to_id_map = {name: i for i, name in enumerate(class_names)}\n",
    "\n",
    "predicted_labels = []\n",
    "api_errors = 0\n",
    "for pred_str in gemini_predictions_str:\n",
    "    if pred_str in name_to_id_map:\n",
    "        predicted_labels.append(name_to_id_map[pred_str])\n",
    "    else:\n",
    "        # Handle cases where the model output is not a valid class name or an error occurred\n",
    "        if \"API_ERROR\" in pred_str:\n",
    "            api_errors += 1\n",
    "        # Append -1 for failed predictions so it will be counted as incorrect\n",
    "        predicted_labels.append(-1) \n",
    "\n",
    "# Ensure lists are numpy arrays for metric calculation\n",
    "true_labels_np = np.array(true_labels)\n",
    "predicted_labels_np = np.array(predicted_labels)\n",
    "\n",
    "# Calculate Top-1 Accuracy\n",
    "gemini_accuracy = accuracy_score(true_labels_np, predicted_labels_np)\n",
    "\n",
    "print(\"\\n--- Subtask 5 Results ---\")\n",
    "print(f\"Total images processed: {len(images_to_test)}\")\n",
    "print(f\"Successful predictions: {len(predicted_labels) - api_errors}\")\n",
    "print(f\"API errors or invalid responses: {api_errors + np.sum(predicted_labels_np == -1) - api_errors}\")\n",
    "print(f\"\\nGemini 2.5 Flash Top-1 Accuracy: {gemini_accuracy:.4f}\")\n",
    "\n",
    "if 'top5_accuracy' in locals() or 'top5_accuracy' in globals():\n",
    "    print(f\"For comparison, SigLIP Zero-Shot Top-5 Accuracy (from Subtask 2): {top5_accuracy:.4f}\")\n",
    "else:\n",
    "    print(\"\\n(SigLIP Zero-Shot Top-5 Accuracy from Subtask 2 was not calculated in this session.)\")\n",
    "    \n",
    "print(\"\\nSubtask 5 Finished!\")"
   ]
  }
 ],
 "metadata": {
  "kernelspec": {
   "display_name": "Python 3",
   "language": "python",
   "name": "python3"
  },
  "language_info": {
   "codemirror_mode": {
    "name": "ipython",
    "version": 3
   },
   "file_extension": ".py",
   "mimetype": "text/x-python",
   "name": "python",
   "nbconvert_exporter": "python",
   "pygments_lexer": "ipython3",
   "version": "3.13.7"
  }
 },
 "nbformat": 4,
 "nbformat_minor": 5
}
